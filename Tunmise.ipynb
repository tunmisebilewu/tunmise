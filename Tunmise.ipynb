{
  "nbformat": 4,
  "nbformat_minor": 0,
  "metadata": {
    "colab": {
      "provenance": [],
      "authorship_tag": "ABX9TyPDtvaetBEQPPEAksIs2qxo",
      "include_colab_link": true
    },
    "kernelspec": {
      "name": "python3",
      "display_name": "Python 3"
    },
    "language_info": {
      "name": "python"
    }
  },
  "cells": [
    {
      "cell_type": "markdown",
      "metadata": {
        "id": "view-in-github",
        "colab_type": "text"
      },
      "source": [
        "<a href=\"https://colab.research.google.com/github/tunmisebilewu/tunmise/blob/main/Tunmise.ipynb\" target=\"_parent\"><img src=\"https://colab.research.google.com/assets/colab-badge.svg\" alt=\"Open In Colab\"/></a>"
      ]
    },
    {
      "cell_type": "markdown",
      "source": [
        "Question 1\n",
        "\n",
        "Write a program that will find all numbers which are divisible by 7 but are not a multiple of 5, between 2000 and 3200 (both included). The numbers obtained should be printed in a list.\n",
        "\n",
        "Hints: Consider using the range(#begin, #end) method."
      ],
      "metadata": {
        "id": "KsETuOmxVoJz"
      }
    },
    {
      "cell_type": "code",
      "execution_count": null,
      "metadata": {
        "colab": {
          "base_uri": "https://localhost:8080/"
        },
        "id": "tgRbb3z_Vl32",
        "outputId": "9796e4af-ca82-418f-8ab6-7c5e1405011e"
      },
      "outputs": [
        {
          "output_type": "stream",
          "name": "stdout",
          "text": [
            "2002 is divisible by 7 and not a multiple of 5\n",
            "2009 is divisible by 7 and not a multiple of 5\n",
            "2016 is divisible by 7 and not a multiple of 5\n",
            "2023 is divisible by 7 and not a multiple of 5\n",
            "2037 is divisible by 7 and not a multiple of 5\n",
            "2044 is divisible by 7 and not a multiple of 5\n",
            "2051 is divisible by 7 and not a multiple of 5\n",
            "2058 is divisible by 7 and not a multiple of 5\n",
            "2072 is divisible by 7 and not a multiple of 5\n",
            "2079 is divisible by 7 and not a multiple of 5\n",
            "2086 is divisible by 7 and not a multiple of 5\n",
            "2093 is divisible by 7 and not a multiple of 5\n",
            "2107 is divisible by 7 and not a multiple of 5\n",
            "2114 is divisible by 7 and not a multiple of 5\n",
            "2121 is divisible by 7 and not a multiple of 5\n",
            "2128 is divisible by 7 and not a multiple of 5\n",
            "2142 is divisible by 7 and not a multiple of 5\n",
            "2149 is divisible by 7 and not a multiple of 5\n",
            "2156 is divisible by 7 and not a multiple of 5\n",
            "2163 is divisible by 7 and not a multiple of 5\n",
            "2177 is divisible by 7 and not a multiple of 5\n",
            "2184 is divisible by 7 and not a multiple of 5\n",
            "2191 is divisible by 7 and not a multiple of 5\n",
            "2198 is divisible by 7 and not a multiple of 5\n",
            "2212 is divisible by 7 and not a multiple of 5\n",
            "2219 is divisible by 7 and not a multiple of 5\n",
            "2226 is divisible by 7 and not a multiple of 5\n",
            "2233 is divisible by 7 and not a multiple of 5\n",
            "2247 is divisible by 7 and not a multiple of 5\n",
            "2254 is divisible by 7 and not a multiple of 5\n",
            "2261 is divisible by 7 and not a multiple of 5\n",
            "2268 is divisible by 7 and not a multiple of 5\n",
            "2282 is divisible by 7 and not a multiple of 5\n",
            "2289 is divisible by 7 and not a multiple of 5\n",
            "2296 is divisible by 7 and not a multiple of 5\n",
            "2303 is divisible by 7 and not a multiple of 5\n",
            "2317 is divisible by 7 and not a multiple of 5\n",
            "2324 is divisible by 7 and not a multiple of 5\n",
            "2331 is divisible by 7 and not a multiple of 5\n",
            "2338 is divisible by 7 and not a multiple of 5\n",
            "2352 is divisible by 7 and not a multiple of 5\n",
            "2359 is divisible by 7 and not a multiple of 5\n",
            "2366 is divisible by 7 and not a multiple of 5\n",
            "2373 is divisible by 7 and not a multiple of 5\n",
            "2387 is divisible by 7 and not a multiple of 5\n",
            "2394 is divisible by 7 and not a multiple of 5\n",
            "2401 is divisible by 7 and not a multiple of 5\n",
            "2408 is divisible by 7 and not a multiple of 5\n",
            "2422 is divisible by 7 and not a multiple of 5\n",
            "2429 is divisible by 7 and not a multiple of 5\n",
            "2436 is divisible by 7 and not a multiple of 5\n",
            "2443 is divisible by 7 and not a multiple of 5\n",
            "2457 is divisible by 7 and not a multiple of 5\n",
            "2464 is divisible by 7 and not a multiple of 5\n",
            "2471 is divisible by 7 and not a multiple of 5\n",
            "2478 is divisible by 7 and not a multiple of 5\n",
            "2492 is divisible by 7 and not a multiple of 5\n",
            "2499 is divisible by 7 and not a multiple of 5\n",
            "2506 is divisible by 7 and not a multiple of 5\n",
            "2513 is divisible by 7 and not a multiple of 5\n",
            "2527 is divisible by 7 and not a multiple of 5\n",
            "2534 is divisible by 7 and not a multiple of 5\n",
            "2541 is divisible by 7 and not a multiple of 5\n",
            "2548 is divisible by 7 and not a multiple of 5\n",
            "2562 is divisible by 7 and not a multiple of 5\n",
            "2569 is divisible by 7 and not a multiple of 5\n",
            "2576 is divisible by 7 and not a multiple of 5\n",
            "2583 is divisible by 7 and not a multiple of 5\n",
            "2597 is divisible by 7 and not a multiple of 5\n",
            "2604 is divisible by 7 and not a multiple of 5\n",
            "2611 is divisible by 7 and not a multiple of 5\n",
            "2618 is divisible by 7 and not a multiple of 5\n",
            "2632 is divisible by 7 and not a multiple of 5\n",
            "2639 is divisible by 7 and not a multiple of 5\n",
            "2646 is divisible by 7 and not a multiple of 5\n",
            "2653 is divisible by 7 and not a multiple of 5\n",
            "2667 is divisible by 7 and not a multiple of 5\n",
            "2674 is divisible by 7 and not a multiple of 5\n",
            "2681 is divisible by 7 and not a multiple of 5\n",
            "2688 is divisible by 7 and not a multiple of 5\n",
            "2702 is divisible by 7 and not a multiple of 5\n",
            "2709 is divisible by 7 and not a multiple of 5\n",
            "2716 is divisible by 7 and not a multiple of 5\n",
            "2723 is divisible by 7 and not a multiple of 5\n",
            "2737 is divisible by 7 and not a multiple of 5\n",
            "2744 is divisible by 7 and not a multiple of 5\n",
            "2751 is divisible by 7 and not a multiple of 5\n",
            "2758 is divisible by 7 and not a multiple of 5\n",
            "2772 is divisible by 7 and not a multiple of 5\n",
            "2779 is divisible by 7 and not a multiple of 5\n",
            "2786 is divisible by 7 and not a multiple of 5\n",
            "2793 is divisible by 7 and not a multiple of 5\n",
            "2807 is divisible by 7 and not a multiple of 5\n",
            "2814 is divisible by 7 and not a multiple of 5\n",
            "2821 is divisible by 7 and not a multiple of 5\n",
            "2828 is divisible by 7 and not a multiple of 5\n",
            "2842 is divisible by 7 and not a multiple of 5\n",
            "2849 is divisible by 7 and not a multiple of 5\n",
            "2856 is divisible by 7 and not a multiple of 5\n",
            "2863 is divisible by 7 and not a multiple of 5\n",
            "2877 is divisible by 7 and not a multiple of 5\n",
            "2884 is divisible by 7 and not a multiple of 5\n",
            "2891 is divisible by 7 and not a multiple of 5\n",
            "2898 is divisible by 7 and not a multiple of 5\n",
            "2912 is divisible by 7 and not a multiple of 5\n",
            "2919 is divisible by 7 and not a multiple of 5\n",
            "2926 is divisible by 7 and not a multiple of 5\n",
            "2933 is divisible by 7 and not a multiple of 5\n",
            "2947 is divisible by 7 and not a multiple of 5\n",
            "2954 is divisible by 7 and not a multiple of 5\n",
            "2961 is divisible by 7 and not a multiple of 5\n",
            "2968 is divisible by 7 and not a multiple of 5\n",
            "2982 is divisible by 7 and not a multiple of 5\n",
            "2989 is divisible by 7 and not a multiple of 5\n",
            "2996 is divisible by 7 and not a multiple of 5\n",
            "3003 is divisible by 7 and not a multiple of 5\n",
            "3017 is divisible by 7 and not a multiple of 5\n",
            "3024 is divisible by 7 and not a multiple of 5\n",
            "3031 is divisible by 7 and not a multiple of 5\n",
            "3038 is divisible by 7 and not a multiple of 5\n",
            "3052 is divisible by 7 and not a multiple of 5\n",
            "3059 is divisible by 7 and not a multiple of 5\n",
            "3066 is divisible by 7 and not a multiple of 5\n",
            "3073 is divisible by 7 and not a multiple of 5\n",
            "3087 is divisible by 7 and not a multiple of 5\n",
            "3094 is divisible by 7 and not a multiple of 5\n",
            "3101 is divisible by 7 and not a multiple of 5\n",
            "3108 is divisible by 7 and not a multiple of 5\n",
            "3122 is divisible by 7 and not a multiple of 5\n",
            "3129 is divisible by 7 and not a multiple of 5\n",
            "3136 is divisible by 7 and not a multiple of 5\n",
            "3143 is divisible by 7 and not a multiple of 5\n",
            "3157 is divisible by 7 and not a multiple of 5\n",
            "3164 is divisible by 7 and not a multiple of 5\n",
            "3171 is divisible by 7 and not a multiple of 5\n",
            "3178 is divisible by 7 and not a multiple of 5\n",
            "3192 is divisible by 7 and not a multiple of 5\n",
            "3199 is divisible by 7 and not a multiple of 5\n"
          ]
        }
      ],
      "source": [
        "MyList=[]\n",
        "for i in range(2000,3201):\n",
        "  if i%7==0 and i%5 !=0:\n",
        "    MyList.append(i)\n",
        "    print(i, \"is divisible by 7 and not a multiple of 5\")"
      ]
    },
    {
      "cell_type": "code",
      "source": [
        "print(MyList)"
      ],
      "metadata": {
        "colab": {
          "base_uri": "https://localhost:8080/"
        },
        "id": "j9TbKOaIYKhg",
        "outputId": "a8597afb-a02e-447b-be46-ab539f8f3951"
      },
      "execution_count": null,
      "outputs": [
        {
          "output_type": "stream",
          "name": "stdout",
          "text": [
            "[2002, 2009, 2016, 2023, 2037, 2044, 2051, 2058, 2072, 2079, 2086, 2093, 2107, 2114, 2121, 2128, 2142, 2149, 2156, 2163, 2177, 2184, 2191, 2198, 2212, 2219, 2226, 2233, 2247, 2254, 2261, 2268, 2282, 2289, 2296, 2303, 2317, 2324, 2331, 2338, 2352, 2359, 2366, 2373, 2387, 2394, 2401, 2408, 2422, 2429, 2436, 2443, 2457, 2464, 2471, 2478, 2492, 2499, 2506, 2513, 2527, 2534, 2541, 2548, 2562, 2569, 2576, 2583, 2597, 2604, 2611, 2618, 2632, 2639, 2646, 2653, 2667, 2674, 2681, 2688, 2702, 2709, 2716, 2723, 2737, 2744, 2751, 2758, 2772, 2779, 2786, 2793, 2807, 2814, 2821, 2828, 2842, 2849, 2856, 2863, 2877, 2884, 2891, 2898, 2912, 2919, 2926, 2933, 2947, 2954, 2961, 2968, 2982, 2989, 2996, 3003, 3017, 3024, 3031, 3038, 3052, 3059, 3066, 3073, 3087, 3094, 3101, 3108, 3122, 3129, 3136, 3143, 3157, 3164, 3171, 3178, 3192, 3199]\n"
          ]
        }
      ]
    },
    {
      "cell_type": "markdown",
      "source": [
        "Question 2\n",
        "\n",
        "Write a program that can compute the factorial of a given number. (the factorial of n is the product of all positive integers less than or equal to n). for example factorial(5)= 5 x 4 x 3 x 2 x 1 the result is 120. (i.e. factorial (0)=1)"
      ],
      "metadata": {
        "id": "iXQWk4ldZLUH"
      }
    },
    {
      "cell_type": "code",
      "source": [
        "def factorial (n):\n",
        "  if n==0:\n",
        "    return 1\n",
        "  else:\n",
        "    F=1\n",
        "    for i in range (2, n+1):\n",
        "      F= F*i\n",
        "    return F\n",
        "print(\"Factorial 5 is \", factorial (5))\n",
        "print(\"Factorial 0 is \", factorial (0))"
      ],
      "metadata": {
        "colab": {
          "base_uri": "https://localhost:8080/"
        },
        "id": "WbmKQ0B4Y6r1",
        "outputId": "cb659692-a55f-430b-a96a-046b2dcc70e5"
      },
      "execution_count": null,
      "outputs": [
        {
          "output_type": "stream",
          "name": "stdout",
          "text": [
            "Factorial 5 is  120\n",
            "Factorial 0 is  1\n"
          ]
        }
      ]
    },
    {
      "cell_type": "markdown",
      "source": [
        "Question 3\n",
        "\n",
        "With a given integer number n, write a program to generate a dictionary that contains (i, i*i) such that is an integral number between 1 and n (both included). and then the program should print the dictionary. Suppose the following input is supplied to the program: 8 Then, the output should be: {1: 1, 2: 4, 3: 9, 4: 16, 5: 25, 6: 36, 7: 49, 8: 64}"
      ],
      "metadata": {
        "id": "7-VnEWNxbfUd"
      }
    },
    {
      "cell_type": "code",
      "source": [
        "n = int(input())\n",
        "MyDict = {}\n",
        "for i in range (1,n+1):\n",
        "  MyDict[i] =i*i\n",
        "print(MyDict)"
      ],
      "metadata": {
        "colab": {
          "base_uri": "https://localhost:8080/"
        },
        "id": "t8Kt36hjbTBy",
        "outputId": "9b04b5c0-c6a4-481b-f07f-39408a5c8bed"
      },
      "execution_count": null,
      "outputs": [
        {
          "output_type": "stream",
          "name": "stdout",
          "text": [
            "8\n",
            "{1: 1, 2: 4, 3: 9, 4: 16, 5: 25, 6: 36, 7: 49, 8: 64}\n"
          ]
        }
      ]
    },
    {
      "cell_type": "markdown",
      "source": [
        "Question 4\n",
        "\n",
        "Given a non-empty string and an int n, return a new string where the char at index n has been removed. The value of n will be a valid index of a char in the original string (i.e. n will be in the range 0..len(str)-1 inclusive).\n",
        "\n",
        "missing_char('kitten', 1) → 'ktten' for example here we remove \"i\" which is located in the index 1\n",
        "\n",
        "missing_char('kitten', 0) → 'itten' here we remove \"k\" which is in the index 0\n",
        "\n",
        "missing_char('kitten', 4) → 'kittn' here we remove \"e\" which is in the index 4"
      ],
      "metadata": {
        "id": "Ubnpdsf1dB4o"
      }
    },
    {
      "cell_type": "code",
      "source": [
        "n = int(input())\n",
        "char=\"Kitten\"\n",
        "for i in range (len(char)-1):\n",
        "  new_char= char.replace(char[n],\"\")\n",
        "print(new_char)"
      ],
      "metadata": {
        "colab": {
          "base_uri": "https://localhost:8080/"
        },
        "id": "xmvQMy9VcljR",
        "outputId": "6deb5d60-76f5-4b47-9d1f-b8e767104dc2"
      },
      "execution_count": null,
      "outputs": [
        {
          "output_type": "stream",
          "name": "stdout",
          "text": [
            "1\n",
            "Ktten\n"
          ]
        }
      ]
    },
    {
      "cell_type": "markdown",
      "source": [
        "Question 5\n",
        "\n",
        "Write a NumPy program to convert a NumPy array into a Python list structure.\n",
        "\n",
        "Expected Output:\n",
        "\n",
        "Original array elements: [[0 1] [2 3] [4 5]]\n",
        "\n",
        "Array to list: [[0, 1], [2, 3], [4, 5]]\n",
        "\n",
        "Hint: we can use the to_list() function to ensure the conversion."
      ],
      "metadata": {
        "id": "RaU03DxueCt-"
      }
    },
    {
      "cell_type": "markdown",
      "source": [
        "Original array elements"
      ],
      "metadata": {
        "id": "aryPa8PAeHyk"
      }
    },
    {
      "cell_type": "code",
      "source": [
        "import numpy as np\n",
        "original_array= np.array([[0,1], [2,3], [4,5]])\n",
        "print(\"original array elements: \", original_array)"
      ],
      "metadata": {
        "colab": {
          "base_uri": "https://localhost:8080/"
        },
        "id": "PwWImGmUdhwv",
        "outputId": "bb5e44cc-91ec-416d-f259-abd40e2cfbc9"
      },
      "execution_count": null,
      "outputs": [
        {
          "output_type": "stream",
          "name": "stdout",
          "text": [
            "original array elements:  [[0 1]\n",
            " [2 3]\n",
            " [4 5]]\n"
          ]
        }
      ]
    },
    {
      "cell_type": "markdown",
      "source": [
        "Array to list"
      ],
      "metadata": {
        "id": "LBinFEwVeuc9"
      }
    },
    {
      "cell_type": "code",
      "source": [
        "list=original_array.tolist()\n",
        "print(\"Array to list: \", list)"
      ],
      "metadata": {
        "colab": {
          "base_uri": "https://localhost:8080/"
        },
        "id": "NHD8XGmZef_R",
        "outputId": "5b61afe0-6876-461a-fb1c-500453a4302e"
      },
      "execution_count": null,
      "outputs": [
        {
          "output_type": "stream",
          "name": "stdout",
          "text": [
            "Array to list:  [[0, 1], [2, 3], [4, 5]]\n"
          ]
        }
      ]
    },
    {
      "cell_type": "markdown",
      "source": [
        "Question 6\n",
        "\n",
        "Write a NumPy program to compute the covariance matrix of two given arrays.\n",
        "\n",
        "Original array1: [0 1 2]\n",
        "\n",
        "Original array2: [2 1 0]\n",
        "\n",
        "Covariance matrix of the said arrays: [[ 1. -1.] [-1. 1.]]\n",
        "\n",
        "Hint: We can use the np.cov() function to calculate the covariance between these two arrays"
      ],
      "metadata": {
        "id": "_oH2hTjge-DC"
      }
    },
    {
      "cell_type": "markdown",
      "source": [
        "Original array1"
      ],
      "metadata": {
        "id": "dwbOZVf0fBp5"
      }
    },
    {
      "cell_type": "code",
      "source": [
        "Original_array1= [0,1,2]\n",
        "print(\"Original array1: \", Original_array1)"
      ],
      "metadata": {
        "colab": {
          "base_uri": "https://localhost:8080/"
        },
        "id": "pXIoajGUepjH",
        "outputId": "ad81f1ae-bced-448a-8904-3105b88aac44"
      },
      "execution_count": null,
      "outputs": [
        {
          "output_type": "stream",
          "name": "stdout",
          "text": [
            "Original array1:  [0, 1, 2]\n"
          ]
        }
      ]
    },
    {
      "cell_type": "markdown",
      "source": [
        "Original array2"
      ],
      "metadata": {
        "id": "wMrivkk3fIWP"
      }
    },
    {
      "cell_type": "code",
      "source": [
        "Original_array2= [2,1,0]\n",
        "print(\"Original array2: \", Original_array2)"
      ],
      "metadata": {
        "colab": {
          "base_uri": "https://localhost:8080/"
        },
        "id": "MQtYQTLwfE5T",
        "outputId": "b8d33f05-516a-4034-893c-2e3eee0b177a"
      },
      "execution_count": null,
      "outputs": [
        {
          "output_type": "stream",
          "name": "stdout",
          "text": [
            "Original array2:  [2, 1, 0]\n"
          ]
        }
      ]
    },
    {
      "cell_type": "markdown",
      "source": [
        "Covariance matrix of the said arrays"
      ],
      "metadata": {
        "id": "3etsTVfkfPPC"
      }
    },
    {
      "cell_type": "code",
      "source": [
        "Covariance_matrix=np.cov(Original_array1, Original_array2)\n",
        "print(\"Covariance matrix of the said arrays:\", Covariance_matrix)"
      ],
      "metadata": {
        "colab": {
          "base_uri": "https://localhost:8080/"
        },
        "id": "ZCl-a1C6fLko",
        "outputId": "52500baa-8fa4-4c3d-cbb5-ca164eeec7a9"
      },
      "execution_count": null,
      "outputs": [
        {
          "output_type": "stream",
          "name": "stdout",
          "text": [
            "Covariance matrix of the said arrays: [[ 1. -1.]\n",
            " [-1.  1.]]\n"
          ]
        }
      ]
    },
    {
      "cell_type": "markdown",
      "source": [
        "Question 7\n",
        "\n",
        "Question: Write a program that calculates and prints the value according to the given formula: Q = Square root of [(2 * C * D)/H]\n",
        "\n",
        "The following are the fixed values of C and H: C is 50. H is 30.\n",
        "\n",
        "D is the variable whose values should be input into your program in a comma-separated sequence. (that means D contains more than value)\n",
        "\n",
        "Example Let's assume the following comma-separated input sequence is given to the program: 100,150,180 The output of the program should be: 18,22,24\n",
        "\n",
        "To further explain this, we will obtain a result for each value of D: Q1= Square root of [(2 * C * 100)/H] =18, Q2= Square root of [(2 * C * 150)/H] = 22 and Q3 = Square root of [(2 * C * 180)/H] = 24\n",
        "\n",
        "Hints: If the output received is in decimal form, it should be rounded off to its nearest value (for example, if the output received is 26.0, it should be printed as 26) In case of input data being supplied to the question, it should be assumed to be a console input."
      ],
      "metadata": {
        "id": "GvJR1jg7gJId"
      }
    },
    {
      "cell_type": "code",
      "source": [
        "import math\n",
        "C=50\n",
        "H=30\n",
        "n= input(\"D: \", )\n",
        "n= n.split(\",\")\n",
        "list= []\n",
        "for D in n:\n",
        "    Q=round(math.sqrt((2*C * int(D)/H)))\n",
        "    list.append(Q)\n",
        "print(list)"
      ],
      "metadata": {
        "colab": {
          "base_uri": "https://localhost:8080/"
        },
        "id": "LU1i8PfffT4r",
        "outputId": "b55ed15a-72b3-4972-c515-959a629ea482"
      },
      "execution_count": null,
      "outputs": [
        {
          "output_type": "stream",
          "name": "stdout",
          "text": [
            "D: 100,150,180\n",
            "[18, 22, 24]\n"
          ]
        }
      ]
    },
    {
      "cell_type": "code",
      "source": [],
      "metadata": {
        "id": "C1noZhZGgayM"
      },
      "execution_count": null,
      "outputs": []
    }
  ]
}